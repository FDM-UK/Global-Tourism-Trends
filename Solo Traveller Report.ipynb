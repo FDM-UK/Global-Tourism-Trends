{
 "cells": [
  {
   "cell_type": "markdown",
   "id": "d600ad76-43a0-4dc7-803a-aec55e667d27",
   "metadata": {},
   "source": [
    "# Quieter Summer Horizons: Your Peaceful Alternatives Guide\n"
   ]
  },
  {
   "cell_type": "markdown",
   "id": "6e65cf84-726d-4804-b684-3eac091f2778",
   "metadata": {},
   "source": [
    "_Helping you find your perfect escape – sunshine, serenity, and serendipity_"
   ]
  },
  {
   "cell_type": "markdown",
   "id": "0be5c82a-fd56-4482-b8cb-5fbc10bd8db6",
   "metadata": {},
   "source": [
    "## Why This Guide?\n"
   ]
  },
  {
   "cell_type": "markdown",
   "id": "ce9ccf4f-c6d2-498c-a932-0c683ff8d9c5",
   "metadata": {},
   "source": [
    "You’ve wandered through Greece and ticked off the guidebook classics — now you’re craving something fresh… "
   ]
  },
  {
   "cell_type": "markdown",
   "id": "396430f7-9614-46f0-8066-370dfb7f8078",
   "metadata": {},
   "source": [
    "This guide has been tailor-made for your early June escape (kicking off from the 6th), packed with:\n",
    "\n",
    "✨That same sun-soaked summer vibe\n",
    "\n",
    "✨Fewer crowds and a more relaxed pace\n",
    "\n",
    "✨Warm, welcoming weather\n",
    "\n",
    "✨Simple solo-friendly travel"
   ]
  },
  {
   "cell_type": "markdown",
   "id": "9f560e9f-33d4-43fa-b810-ef9556f606b9",
   "metadata": {},
   "source": [
    "All without the bustle of the school holiday season. Snap up your ticket to a quieter, more refreshing summer adventure today"
   ]
  },
  {
   "cell_type": "markdown",
   "id": "8eed2baf-f42e-414c-9fa9-f9f100db8035",
   "metadata": {},
   "source": [
    "Swap the Usual Hotspots for These Hidden Gems…"
   ]
  },
  {
   "cell_type": "markdown",
   "id": "c664ae3c-e7fd-4aaf-b158-8c4146cd00f7",
   "metadata": {},
   "source": [
    "If you loved Greece — all that sunshine, effortless charm, and laid-back vibe — you’re going to adore these three off-the-radar alternatives:"
   ]
  },
  {
   "cell_type": "markdown",
   "id": "beccaed4-7cbf-42bf-ab03-131eeefff057",
   "metadata": {},
   "source": [
    "🌴 Aruba 🇦🇼\n",
    "\n",
    "🏔️ Azerbaijan 🇦🇿\n",
    "\n",
    "🏖️ Australia 🇦🇺\n",
    "\n",
    "<div style=\"display: flex; flex-direction: row; align-items: flex-start;\">\n",
    "  <div style=\"margin-right: 20px; text-align: center;\">\n",
    "    <img src=\"images/diana-krotova-roLD0GAw5NM-unsplash.jpg\" style=\"width:400px;\">\n",
    "    <p style=\"font-style: italic; margin-top: 5px; margin-bottom: 0;\">Baku, Azerbaijan 🇦🇿\n",
    "</p>\n",
    "  </div>\n",
    "  <div style=\"margin-right: 20px; text-align: center;\">\n",
    "    <img src=\"images/john-de-jong-VhgY8SJ1Wms-unsplash.jpg\" style=\"width:400px;\">\n",
    "    <p style=\"font-style: italic; margin-top: 5px; margin-bottom: 0;\">Oranjestad, Aruba 🇦🇼</p>\n",
    "  </div>\n",
    "  <div style=\"text-align: center;\">\n",
    "    <img src=\"images/social-estate-P-t9yap_20M-unsplash.jpg\" style=\"width:400px;\">\n",
    "    <p style=\"font-style: italic; margin-top: 5px; margin-bottom: 0;\">Canberra, Australia 🇦🇺</p>\n",
    "  </div>\n",
    "</div>"
   ]
  },
  {
   "cell_type": "markdown",
   "id": "2c3bf7a2-d861-4b6e-899f-3e16ad784719",
   "metadata": {},
   "source": [
    "Why they’re perfect:\n",
    "\n",
    "✔️Fewer crowds\n",
    "\n",
    "✔️ Sunshine that rivals Greece\n",
    "\n",
    "✔️Similar rainfall (no soggy surprises!)\n",
    "\n",
    "✔️Affordable flights from the UK"
   ]
  },
  {
   "cell_type": "markdown",
   "id": "90bf8348-5120-446c-860e-d124165ab0d5",
   "metadata": {},
   "source": [
    "We’ve done all the legwork We’ve done all the legwork — all that’s left is for you to choose your next adventure and jet off in style!"
   ]
  },
  {
   "cell_type": "markdown",
   "id": "d9180b1a-e2ab-42fb-bb04-ec3f5b056116",
   "metadata": {},
   "source": [
    "## What You’ll Find Here "
   ]
  },
  {
   "cell_type": "markdown",
   "id": "6c8e4574-158e-4c0a-aeaa-5085e43667b3",
   "metadata": {},
   "source": [
    "For each suggested destination, you’ll get:\n",
    "\n",
    "✔️ Travel Time from Manchester airport \n",
    "\n",
    "✔️Minimum Flight Cost\n",
    "\n",
    "✔️ Weather Snapshot for early June\n",
    "\n",
    "\n",
    "📱Bonus: All charts and maps are designed to look great on mobile. No pinching or zooming required."
   ]
  },
  {
   "cell_type": "markdown",
   "id": "11f11bdc-48aa-4531-9d16-96ba94f21143",
   "metadata": {},
   "source": [
    "## How We Found Your Next Destination?\n"
   ]
  },
  {
   "cell_type": "markdown",
   "id": "460e0aa7-3383-4e63-9d5f-2e169cf85da2",
   "metadata": {},
   "source": [
    "We used official tourism and weather data to uncover hidden gems.\n",
    "\n",
    "How we picked your places:\n",
    "\n",
    "- Countries with low annual visitor numbers \n",
    "\n",
    "- Cities with early June weather like your favourite Greece"
   ]
  },
  {
   "cell_type": "markdown",
   "id": "01f74126-6dcd-437b-8162-700d9fb57d14",
   "metadata": {},
   "source": [
    "Data sources include:\n",
    "\n",
    "🌍UNWTO for visitor numbers\n",
    "\n",
    "🌦️OpenWeather for climate\n",
    "\n",
    "✈️ SkyScanner for flights"
   ]
  },
  {
   "cell_type": "markdown",
   "id": "0cd01b0e",
   "metadata": {},
   "source": [
    "## Things to do\n",
    "\n",
    "<img src=\"images/Top 3 Things to do in . . . Aruba.png\" style=\"width:500px;\" />\n",
    "<img src=\"images/Top 3 Things to do in . . . Baku.png\" style=\"width:500px;\" />\n",
    "<img src=\"images/Top 3 Things to do in . . . Canberra.png\" style=\"width:500px;\" />"
   ]
  },
  {
   "cell_type": "markdown",
   "id": "b12ac4fc-da9e-4127-84a3-09d97de835fc",
   "metadata": {},
   "source": [
    "## What’s Next?"
   ]
  },
  {
   "cell_type": "markdown",
   "id": "1d0d8ee5-101e-484b-9884-d65066f3ac63",
   "metadata": {},
   "source": [
    "We’re finalising the data and visual touches — but soon you’ll be able to:"
   ]
  },
  {
   "cell_type": "markdown",
   "id": "bba8d313-af53-49ae-8756-bd199fadf059",
   "metadata": {},
   "source": [
    "We’re finalising the data and visual touches — but soon you’ll be able to: \n",
    "    \n",
    "- Browse top matches by interest (e.g. beachy, foodie, cultural)\n",
    "- See our destination cards above with quick facts + booking links "
   ]
  },
  {
   "cell_type": "markdown",
   "id": "49427afc-a4d1-4111-94b6-7a69defe8b4f",
   "metadata": {},
   "source": [
    "Stay tuned for:\n",
    "\n",
    "- A curated shortlist for peaceful, affordable June holidays\n"
   ]
  },
  {
   "cell_type": "markdown",
   "id": "6b32362d-6881-4c82-96aa-0d65dfbf5b40",
   "metadata": {},
   "source": [
    "## Just because it’s quiet, doesn't mean you go unprepared…"
   ]
  },
  {
   "cell_type": "markdown",
   "id": "edde729f-319a-48c8-8463-0248dd763f63",
   "metadata": {},
   "source": [
    "Stay savvy with these quick tips for low-key travel:\n",
    "\n",
    "🏡 Stay Local: Pick cosy guesthouses, boutique hotels, or farm stays — they’re packed with character and local charm (no soulless chains here)\n",
    "\n",
    "📅Think Ahead: Check local festivals and school holidays — nothing ruins a peaceful escape like an unexpected parade\n",
    "\n",
    "🛡️Safety First: Quiet doesn’t always mean carefree. Make sure you can get around easily, find help if needed, and feel safe exploring solo.\n",
    "\n",
    "A little planning goes a long way — and keeps your adventure blissfully stress-free!\n"
   ]
  },
  {
   "cell_type": "markdown",
   "id": "fb4e9268-a5ef-448a-a1ba-d7f7b125e2c3",
   "metadata": {},
   "source": [
    "## Final Huzzah 🎉"
   ]
  },
  {
   "cell_type": "markdown",
   "id": "b3a55503-4c5a-4be9-bf7f-34295ba97850",
   "metadata": {},
   "source": [
    "You’re not asking for much — just a bit of calm in the sunshine. This guide is designed for exactly that.\n",
    "\n",
    "We’ll help you swap queues for quiet mornings, and tourist traps for local charm."
   ]
  },
  {
   "cell_type": "markdown",
   "id": "64fa541e-05f0-44f7-b352-c74805b9eed8",
   "metadata": {},
   "source": [
    "**Travel smart. Travel light. Travel you** 🌍💼\n",
    "\n",
    "_Know where you’re going — only bring what matters_ ✨"
   ]
  }
 ],
 "metadata": {
  "kernelspec": {
   "display_name": "Python 3 (ipykernel)",
   "language": "python",
   "name": "python3"
  },
  "language_info": {
   "codemirror_mode": {
    "name": "ipython",
    "version": 3
   },
   "file_extension": ".py",
   "mimetype": "text/x-python",
   "name": "python",
   "nbconvert_exporter": "python",
   "pygments_lexer": "ipython3",
   "version": "3.13.1"
  }
 },
 "nbformat": 4,
 "nbformat_minor": 5
}
