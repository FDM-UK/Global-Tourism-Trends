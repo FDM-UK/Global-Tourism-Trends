{
 "cells": [
  {
   "cell_type": "markdown",
   "id": "d4eecc66-2e28-4f05-8304-dfe9b1ebaf3e",
   "metadata": {},
   "source": [
    "# Quieter Holiday Destinations Project Report"
   ]
  },
  {
   "cell_type": "markdown",
   "id": "c50a20d9-e2b6-4eb9-9264-a20fd2f47246",
   "metadata": {},
   "source": [
    "## INTRODUCTION:\n",
    "### Aims and objectives of the project\n",
    "This project aims to address the needs of adventurous travellers seeking holiday destinations that offer a summer feel without the chaos of crowds. Our primary objective is to provide data-driven recommendations for alternative, quieter destinations that match popular tourist hotspots in terms of climate and experience, while also providing practical information on travel logistics."
   ]
  },
  {
   "cell_type": "markdown",
   "id": "074503ce-27e9-4b0c-9e76-a19c130f063d",
   "metadata": {},
   "source": [
    "Specifically, we aim to answer the following questions:\n",
    "\n",
    "1. What destinations offer tourist interest but are less overcrowded than Greece?\n",
    "2. Which quieter destinations also have similar weather to these popular destinations?\n",
    "3. How much will flights cost?"
   ]
  },
  {
   "cell_type": "markdown",
   "id": "5782029c-a4f5-4f3e-8468-525a229db425",
   "metadata": {},
   "source": [
    "### Roadmap of the report\n",
    "This report will first outline the background and rationale for our project, followed by detailed specifications and requirements. We will then describe our implementation approach, team roles, and development methodology. The data collection section will outline our data sources, collection methods, and potential challenges. Finally, we will present our findings and conclusions."
   ]
  },
  {
   "cell_type": "markdown",
   "id": "9a71c2cd-53d7-4cc2-b5f1-4aea37c7aa77",
   "metadata": {},
   "source": [
    "## BACKGROUND:\n",
    "The tourism industry has seen significant growth in recent years, leading to overcrowding in popular destinations. This phenomenon, often referred to as \"overtourism,\" has negative impacts on both the traveller experience and local environments. Our project focuses on helping adventurous female solo travellers who have previously explored guidebook recommendations and now seek authentic, less crowded alternatives."
   ]
  },
  {
   "cell_type": "markdown",
   "id": "65d91475-dd2c-461b-8bb3-6d30b2e9333c",
   "metadata": {},
   "source": [
    "Our target audience is a mathematically literate but not technically oriented traveller who values concise, clear information that can be easily accessed on mobile devices. She plans to travel in early summer (specifically June 6th), outside school holidays, but still within peak season. She has flexibility in her return date and is open to extended stays if she enjoys a destination."
   ]
  },
  {
   "cell_type": "code",
   "execution_count": null,
   "id": "18524f6f",
   "metadata": {},
   "outputs": [],
   "source": []
  },
  {
   "cell_type": "markdown",
   "id": "8cc5c895-8a92-4a7e-ad61-57ada2b488f8",
   "metadata": {},
   "source": [
    "The project addresses the growing need for sustainable and enjoyable travel experiences that avoid the pitfalls of mass tourism while still providing the climate and cultural experiences travellers seek."
   ]
  },
  {
   "cell_type": "markdown",
   "id": "d602dd9d-7f74-4922-887a-aa5284b31eed",
   "metadata": {},
   "source": [
    "## SPECIFICATIONS AND DESIGN:\n",
    "### Requirements - technical and non-technical"
   ]
  },
  {
   "cell_type": "markdown",
   "id": "f0c31c6d-b537-4b60-9909-93abf04addd1",
   "metadata": {},
   "source": [
    "**Technical Requirements:**\n",
    "\n",
    "- Use of Pandas, NumPy, matplotlib, seaborn\n",
    "- Integration with multiple data sources, including tourism statistics databases and weather APIs\n",
    "- Data cleaning and transformation capabilities for varied data formats\n",
    "- Visualisation tools to present findings in an accessible, mobile-friendly format\n",
    "- API integration for real-time flight information and historical weather data\n",
    "- Version control for collaborative code development"
   ]
  },
  {
   "cell_type": "markdown",
   "id": "d74e95f6-b40d-43a3-b11d-d8ba49ac50f9",
   "metadata": {},
   "source": [
    "**Non-technical Requirements:**\n",
    "\n",
    "- Recommendations must be genuinely less crowded alternatives to popular destinations\n",
    "- Climate data must be comparable to original destinations for the specific travel period\n",
    "- Flight information must be accurate and relevant to the target audience's profile\n",
    "- Visualisations must be clear and interpretable without technical expertise\n",
    "- Report and findings must be concise and have the potential to be readable on mobile devices"
   ]
  },
  {
   "cell_type": "markdown",
   "id": "143563d9-5083-48ce-8f48-d401a55f6edb",
   "metadata": {},
   "source": [
    "### Design and architecture\n",
    "Our solution was designed as a data pipeline that:\n",
    "- Collects tourism data to identify less-visited destinations\n",
    "- Analyses historical weather data to match climate conditions\n",
    "- Retrieves flight information to provide practical travel logistics\n",
    "- Processes and transforms this data to generate meaningful comparisons\n",
    "- Visualises the results in an accessible format"
   ]
  },
  {
   "cell_type": "markdown",
   "id": "9c155312-e622-4c01-8a1a-6633f36d45f4",
   "metadata": {},
   "source": [
    "The architecture employs a Jupyter notebook as the primary development and presentation environment, with modular components for each data source and analysis type."
   ]
  },
  {
   "cell_type": "markdown",
   "id": "475ef2b2-41ee-455e-a2f5-6b6d525dd462",
   "metadata": {},
   "source": [
    "## IMPLEMENTATION AND EXECUTION:\n",
    "### Development approach and team member roles\n",
    "We have adopted an Agile methodology using Trello for project management. Each team member contributes across various aspects of the project, leveraging individual strengths while developing new skills. Quality assurance partners review completed work to ensure accuracy and consistency."
   ]
  },
  {
   "cell_type": "markdown",
   "id": "e7dbf799-c075-4a45-9f94-1bd557a10e85",
   "metadata": {},
   "source": [
    "Team members have been assigned specific responsibilities based on the project timeline:\n",
    "- Initial project setup and GitHub repository management: Fi Douglas-Mullett\n",
    "- Initial Trello kanban board setup and management: Fi Douglas-Mullett\n",
    "- UNWTO tourism data exploration and processing: Fi Douglas-Mullett\n",
    "- UNWTO tourism data analysis: Alannah Dowdall\n",
    "- Weather API integration and analysis: Ellice Price\n",
    "- SkyScanner API integration: Alannah Dowdall\n",
    "- CSV dataset creation to identify the top three alternative destinations: Divya Sethi\n",
    "- Flight data analysis: Zarfishan Rizwan and Claire Cooper\n",
    "- ReadMe file: Claire Cooper\n",
    "- Data cleaning and transformation: Fi Douglas-Mullett, Alannah Dowdall, Ellice Price\n",
    "- Visualisation development: Ellice Price, Claire Cooper, Fi Douglas-Mullet, Zarfishan Rizwan, Divya Sethi and Brinel Ndombele\n",
    "- Report writing: Claire Cooper\n",
    "- Code review: Ellice Price, Claire Cooper, Fi Douglas-Mullett, Zarfishan Rizwan"
   ]
  },
  {
   "cell_type": "markdown",
   "id": "e612d13f-ff8f-4fcd-bb7c-c003e4aa72f5",
   "metadata": {},
   "source": [
    "### Tools and libraries\n",
    "- Project Management: Trello for Agile workflow management\n",
    "- Version Control: GitHub for code sharing and version tracking\n",
    "- Development Environment: Jupyter Notebook\n",
    "- Data Processing: Pandas for data manipulation and cleaning\n",
    "- Data Analysis: NumPy for numerical analysis\n",
    "- Visualisation: Matplotlib for creating clear, accessible graphics\n",
    "- APIs: OpenWeather API and SkyScanner API\n",
    "- Communication: Slack for team coordination, Discord and Zoom for group meetings"
   ]
  },
  {
   "cell_type": "markdown",
   "id": "5fc81c34-c50a-4489-9ddd-a12b41533ce8",
   "metadata": {},
   "source": [
    "### Implementation process\n",
    "\n",
    "Our implementation followed the planned data pipeline, with team members contributing to specific components. We began with tourism data collection and cleaning, followed by integration of weather data and flight information, and finally data transformation for analysis."
   ]
  },
  {
   "cell_type": "markdown",
   "id": "b71f806a-3570-4bf3-96ec-f93af4dc011f",
   "metadata": {},
   "source": [
    "Key achievements included:\n",
    "\n",
    "- Successfully cleaning and restructuring UNWTO tourism data into a usable format\n",
    "- Obtaining a comprehensive database of country coordinates for weather data retrieval\n",
    "- Developing effective API integration with both OpenWeather and SkyScanner\n",
    "- Implementing data filtering based on travel safety advisories and tourism levels\n",
    "- Merging multiple datasets while maintaining data integrity"
   ]
  },
  {
   "cell_type": "markdown",
   "id": "6641d29b-ebe0-43c2-a47c-f4548960d211",
   "metadata": {},
   "source": [
    "Throughout implementation, we faced several obstacles requiring adaptive solutions. Initially, we planned to use city-level tourism data, but found only country-level data was consistently available. This required pivoting to a two-step approach: identifying countries with lower tourism rates, then researching specific cities within those countries. Originally, we aimed to find alternatives to popular destinations like Hvar, Bangkok, Rome, Crete, and Dubai. However, as the project progressed, we refined our focus to identify quieter alternatives specifically similar to Greece, to allow for a deeper and more manageable analysis within the project’s timeframe."
   ]
  },
  {
   "cell_type": "markdown",
   "id": "ce1ac1a1-2f0f-47cc-9839-d5b5d678ce19",
   "metadata": {},
   "source": [
    "Another significant pivot involved our weather data collection. API call limits (1000 calls daily) necessitated strategic planning for data retrieval. Rather than collecting weather for every day of a potential week’s stay, we focused on historical data for June 6th across multiple years to establish reliable averages."
   ]
  },
  {
   "cell_type": "markdown",
   "id": "adccb512-c509-4295-a362-91bcf5c860e8",
   "metadata": {},
   "source": [
    "### Agile development\n",
    "We employed several Agile practices throughout:\n",
    "\n",
    "- Iterative development with regular reviews and adjustments\n",
    "- Using Trello board to manage tasks from backlog to completion\n",
    "- Weekly synchronous meetings to discuss progress and challenges\n",
    "- Quality assurance partners for code review before merging\n",
    "- Slack for continuous communication and updates\n",
    "\n",
    "\n",
    "<img src=\"images/Trello Kanban board.jpg\" alt=\"Trello Kanban board\" width=\"1500\">\n",
    "<p style=\"font-style: italic; margin-top: 5px; margin-bottom: 0;\">Our Kanban board on Trello in use</p>"
   ]
  },
  {
   "cell_type": "markdown",
   "id": "11d00d34-d7b8-4fb3-895c-b80ae9f7ee80",
   "metadata": {},
   "source": [
    "### Implementation challenges ###"
   ]
  },
  {
   "cell_type": "markdown",
   "id": "fe1aea3e-b00d-430e-bc8e-5d04d0845a98",
   "metadata": {},
   "source": [
    "- Data Granularity Issues: The UNWTO tourism data provided country-level statistics rather than city-specific information, creating challenges for precise recommendations. We addressed this by developing a filtering system that identified promising countries and then researched cities within those countries.\n",
    "- API Rate Limitations: The OpenWeather API's limit of 1000 calls per day constrained our ability to gather comprehensive historical weather data. We strategically prioritized countries based on initial filtering parameters and focused on obtaining the most relevant data points rather than exhaustive coverage. We focused on obtaining the mean temperature and mean rainfall per country.\n",
    "- Weather data precision and accuracy: The OpenWeather API required coordinates to retrieve historical data for each country. A dataset (‘countries.csv’) published by Google was used and merged with the tourism data to provide these coordinates. The coordinates are the geographical center of every country. We obtained these coordinates rather than coordinates for the capital of every country because we anticipated that the solo female traveller may not only stay in the capital. Furthermore, we thought it would improve the validity of the results by ensuring all weather data was based on the centre of every country, thus providing a more representative dataset. We understand that this comes with limitations because the weather across even small countries can vary greatly. \n",
    "- Nested JSON Processing: The SkyScanner API returned deeply nested JSON structures that proved challenging to extract and transform. We developed custom flattening functions to reliably extract the necessary flight data.\n",
    "- Country Name Inconsistencies: Different data sources used varying country name formats (e.g., \"USA\" vs. \"United States\"), complicating data merging. We implemented fuzzy matching algorithms to properly align records across datasets.\n",
    "- Missing Geographical Coordinates: Several countries lacked coordinates in our initial dataset, which were essential for weather data retrieval. Team members manually researched and added these coordinates to ensure comprehensive coverage.\n",
    "- Mobile Formatting Requirements: Creating visualizations that would remain clear and readable on mobile devices presented unique design challenges. We prioritized simplicity and clarity in our chart design, with careful attention to color contrast and text size."
   ]
  },
  {
   "cell_type": "markdown",
   "id": "78c36893-d254-4bc6-8d40-defd2123dc91",
   "metadata": {},
   "source": [
    "## DATA COLLECTION:\n",
    "### What information do we need?\n",
    "To answer our research questions, we required:\n",
    "\n",
    "1. Tourism statistics to identify popular destinations and their less-visited alternatives\n",
    "2. Historical weather data for early June to match climate conditions\n",
    "3. Flight information, including duration and costs from UK airports to potential destinations"
   ]
  },
  {
   "cell_type": "markdown",
   "id": "dd5093ad-5666-4cd5-8551-f22ffa4515f3",
   "metadata": {},
   "source": [
    "### What information is available?\n",
    "After evaluating multiple data sources, we identified:\n",
    "1. UNWTO Tourism Statistics Database providing inbound tourism data for countries up to 2022\n",
    "2. OpenWeather API offering historical weather data by specific location and time\n",
    "3. SkyScanner API providing flight schedules, durations, and costs from UK airports"
   ]
  },
  {
   "cell_type": "markdown",
   "id": "74a38d25-0dda-4415-93e3-d472df1d785c",
   "metadata": {},
   "source": [
    "This visualisation belowe contrasts the most popular tourist destinations with the least visited countries, categorizing visitors as overnight, day, and cruise passengers, which visually reinforces our destination filtering rationale by highlighting tourism popularity patterns essential to our recommendation process."
   ]
  },
  {
   "cell_type": "markdown",
   "id": "d661c245",
   "metadata": {},
   "source": [
    "<img src=\"images/tourist_data_plot.png\" alt=\"Tourism Data\" width=\"1500\">\n",
    "<p style=\"font-style: italic; margin-top: 5px; margin-bottom: 0;\">Highest and lowest countries for Tourism</p>"
   ]
  },
  {
   "cell_type": "markdown",
   "id": "367768be-adad-4be4-8c2b-9decb93e2f7a",
   "metadata": {},
   "source": [
    "### What is our data source?\n",
    "We have selected the following data sources based on comprehensive evaluation:"
   ]
  },
  {
   "cell_type": "markdown",
   "id": "3db80446-6b6e-491b-ae7f-4425b2b357e4",
   "metadata": {},
   "source": [
    "1. UNWTO Tourism Statistics Database\n",
    "   \n",
    "- Provides inbound tourism data for all countries\n",
    "- Contains data up to 2022\n",
    "- Offers good data integrity with explanatory comments\n",
    "- Limitation: The dataset is based on annual inbound tourism figures, rather than monthly. Furthermore, the dataset provides tourism figures based on each country, rather than cities. We aimed to provide an analysis based on tourism in June to recommend three destinations to our solo female traveller. We had also anticipated suggesting cities for our traveller to visit. We had attempted to explore other datasets to combine datasets in order to provide more precise recommendations. However, these datasets did not maintain consistency or integrity. Therefore, we used the UNWTO database and we understood that our analysis is not as precise as we had initially intended. "
   ]
  },
  {
   "cell_type": "markdown",
   "id": "c8ad208b-5451-4b7a-a0b0-b9be624e6a84",
   "metadata": {},
   "source": [
    "2. OpenWeather API\n",
    "   \n",
    "- Allows access to historical weather data by specific location and time\n",
    "- The One Call API 3.0 allows 1000 free calls a day\n",
    "- Will be used to analyse weather patterns for the week of June 6th from recent years\n",
    "- Limitations: Although we had filtered our data collection to save API calls, we initially anticipated to collect the average temperature and rainfall for a particular week each year across four years (e.g. 6th June - 13th June). This would have been ideal as it would have improved accuracy of results by accounting for year on year variation. Furthermore, we aimed to retrieve weather data across daylight hours of each day in order to be able to identify the maximum temperature of a day (this data would be most relevant to our traveller). However, collecting data only for 6th June across four years at 12pm used API calls that reached its daily limit. The ‘afternoon’ weather data retrieval (12pm) was chosen because this approximates maximum temperature in most locations. However, we understand that this is an approximation and, in reality, the time of day at which the temperature reaches maximum varies from location to location and as such the 12pm data does not always obtain the maximum temperature. "
   ]
  },
  {
   "cell_type": "markdown",
   "id": "8cd81bd3-616d-4d83-983d-84abd166b54f",
   "metadata": {},
   "source": [
    "3. SkyScanner API\n",
    "\n",
    "- Offers comprehensive flight scheduling information\n",
    "- Allows parameter specification to match our target audience criteria\n",
    "- Provides both flight duration and cost information\n",
    "- Free key allows 100 calls per month through rapidapi.com\n",
    "- Limitation: With more time, we would have incorporated flight data for all recommended destinations (post-tourism data and travel advice analysis), allowing us to suggest locations with comparable weather and flights under £400. However, API call limitations restricted this approach. Instead, we demonstrated flight comparisons solely for the top three countries identified through tourism and weather data analysis.\n",
    "- Limitation: SkyScanner's free API restriction (100 calls monthly) meant we could only gather flight information from one UK airport. We selected Manchester Airport as it's a major transport hub with a single international airport, avoiding the ambiguity of multi-airport cities like London. We recognise this may have affected our results compared to departures from other UK locations."
   ]
  },
  {
   "cell_type": "markdown",
   "id": "0244cdd1-a330-43f4-acb7-e194d0dad2fc",
   "metadata": {},
   "source": [
    "### How we collected data:\n",
    "\n",
    "Our data collection involved multiple streams carefully integrated to provide comprehensive information:"
   ]
  },
  {
   "cell_type": "markdown",
   "id": "418a3dba-bcf9-4942-879b-cf709e7adc28",
   "metadata": {},
   "source": [
    "**UNWTO Tourism Statistics**:\n",
    "\n",
    "We accessed the UNWTO Tourism Statistics Database through a downloadable spreadsheet. The initial dataset contained tourism information across multiple years for all countries. Our team worked to transform this into a pandas DataFrame, handling various data consistency issues including missing values, inconsistent formatting across years, and country naming variations. Fi took primary responsibility for cleaning this dataset, creating a structured CSV that served as our foundation for tourism metrics."
   ]
  },
  {
   "cell_type": "markdown",
   "id": "0ce18895-21e8-4269-bd9a-2076f3fa35e1",
   "metadata": {},
   "source": [
    "**OpenWeather API Integration**:\n",
    "Ellice developed custom functions to retrieve historical weather data through the OpenWeather API. The implementation required two key components:\n",
    "\n",
    "1. A geographical database mapping countries to their coordinates, as the API requires latitude/longitude rather than country names\n",
    "2. Functions to process API responses and calculate average temperatures and rainfall for our target travel dates"
   ]
  },
  {
   "cell_type": "markdown",
   "id": "3b63f6bc-12b4-4c6d-bae3-02b3aa4ba2f9",
   "metadata": {},
   "source": [
    "The implementation utilized date-based API calls rather than Unix timestamps, simplifying retrieval of historical data. We focused on gathering weather data for June 6th from 2021-2024 to establish reliable averages for comparison. Due to API rate limitations, we prioritized countries that had passed our initial tourism filters, saving our daily allocation of calls for the most relevant destinations."
   ]
  },
  {
   "cell_type": "markdown",
   "id": "f38cd76d-ea1e-4ac5-aec5-24b6184f56d5",
   "metadata": {},
   "source": [
    "**SkyScanner API Integration**:\n",
    "Alannah developed robust functions to interact with the SkyScanner API for retrieval of flight information. The implementation faced several challenges:\n",
    "\n",
    "1. The API returns deeply nested JSON responses requiring careful extraction\n",
    "2. Results needed filtering to isolate relevant flight options\n",
    "3. Data transformation was required to arrange flight information in a standardized format\n",
    "\n",
    "The final implementation allowed us to query flight duration and cost information for specific city pairs on our target travel dates. The team implemented error handling and result validation to ensure reliable data despite API limitations."
   ]
  },
  {
   "cell_type": "markdown",
   "id": "913db154-5235-454a-aecc-e5b133b36913",
   "metadata": {},
   "source": [
    "This interactive geographic visualisation below maps flight prices from Manchester to three recommended destinations (Oranjestad, Baku, and Canberra), using circle size to represent average costs whilst providing minimum price information on hover. To use the map to its full capacity please use the Project Report Jupyter Notebook version. The below images are screenshots of the map's capabilities. "
   ]
  },
  {
   "cell_type": "markdown",
   "id": "3da08bf0",
   "metadata": {},
   "source": [
    "<img src=\"images/Aruba_Flight_Price.png\" alt=\"Flight Prices A\" width=\"1200\">\n",
    "<img src=\"images/Azebaijan_Flight_Price.png\" alt=\"Flight Prices B\" width=\"1200\">\n",
    "<img src=\"images/Austrialia_flight_price.png\" alt=\"Flight Prices C\" width=\"1200\">\n"
   ]
  },
  {
   "cell_type": "markdown",
   "id": "c011ac76-8ae8-440d-937b-6427fd55fe51",
   "metadata": {},
   "source": [
    "**Government Travel Advisories**:\n",
    "Claire researched and compiled UK Foreign Office travel advisories to incorporate safety considerations into our recommendations. This data was manually collected and categorized using Python's pandas library, with destinations assigned numerical safety scores (1-4) based on restriction levels. These scores were integrated into our filtering algorithm, ensuring our final recommendations prioritized traveller safety whilst maintaining compatibility with weather preferences."
   ]
  },
  {
   "cell_type": "markdown",
   "id": "19aa9658-1392-41bf-b6e6-9862a112f25f",
   "metadata": {},
   "source": [
    "This dual-axis visualisation belowe compares average June temperatures and tourism volumes across Greece and its recommended alternatives (Aruba, Azerbaijan, and Australia), demonstrating how our recommended destinations offer similar climate conditions with varying visitor numbers."
   ]
  },
  {
   "cell_type": "markdown",
   "id": "2341f9c4",
   "metadata": {},
   "source": [
    "<img src=\"images/temperature_vs_tourism.png\" alt=\"Temp_vs_Tourism\" width=\"1200\">\n"
   ]
  },
  {
   "cell_type": "markdown",
   "id": "28035438-3c77-48bb-9ccf-1579eb7f15e5",
   "metadata": {},
   "source": [
    "**Note on Historical Weather Data Consistency:**\n",
    "\n",
    "During final checks, we noticed a slight discrepancy between the historical weather data initially collected and data retrieved during a later re-run, despite using identical latitude and longitude coordinates. The OpenWeather API returned slightly different temperature and rainfall values, which is unexpected for historic data. We suspect this may be due to API-side adjustments or periodic updates to their historic datasets. To ensure consistency and reproducibility across our pipeline, we decided not to re-call the API during final runs. The dataset used (Complete_Weather_Data_For_Destinations.csv - since been renamed) is based on calls made on 17/04/2025 and 18/04/2025, and all downstream processes, including the identification of our top three destinations, are based on that data."
   ]
  },
  {
   "cell_type": "markdown",
   "id": "0ee445fa-3bb4-4414-b38a-93a1a7d9d821",
   "metadata": {},
   "source": [
    "*Please note* : a later re-run of the finalised_countries notebook (since been renamed) with newly retrieved weather data resulted in a slightly different top three: Armenia, Azerbaijan, and Aruba. However, for traceability and internal consistency, we have retained our original results."
   ]
  },
  {
   "cell_type": "markdown",
   "id": "639148da-9482-4b15-9b41-e4556dc0ae5e",
   "metadata": {},
   "source": [
    "This comprehensive visualization below displays flight price versus duration comparisons for the top four recommended destinations (Oranjestad, Baku, Canberra, and Athens), highlighting average values for each metric to support the final travel recommendations presented in the conclusion."
   ]
  },
  {
   "cell_type": "markdown",
   "id": "8a8e19d3",
   "metadata": {},
   "source": [
    "<img src=\"images/flight_price_duration.png\" alt=\"FlightPrices\" width=\"1200\">\n",
    "<img src=\"images/average_flight_price_duration.png\" alt=\"FlightPrices\" width=\"1200\">\n"
   ]
  },
  {
   "cell_type": "markdown",
   "id": "e2965aa8-0a4a-43e5-b5eb-44da0aeab4ae",
   "metadata": {},
   "source": [
    "## CONCLUSION"
   ]
  },
  {
   "cell_type": "markdown",
   "id": "d0fbc5cb-7d6b-4ce3-adeb-f121211e5a24",
   "metadata": {},
   "source": [
    "Our project set out to provide adventurous travellers with data-driven recommendations for quieter holiday destinations offering comparable experiences to popular tourist hotspots. Through comprehensive analysis of tourism statistics, weather patterns, and flight information, we have developed a methodology that successfully identifies alternative destinations matching our target criteria."
   ]
  },
  {
   "cell_type": "markdown",
   "id": "03a72a52-1860-4e97-b0a7-e53746e61f79",
   "metadata": {},
   "source": [
    "Despite facing difficulties with data collection — particularly limited historical weather data and restricted API access — we have reached our objectives. We recommended three quieter destinations, each selected based on lower tourism volumes and similar average temperatures and rainfall compared to Greece. Through our report, our target audience — the solo female traveller — can now make an informed choice based on the tourism levels, weather graphs, and flight expenses we have provided."
   ]
  },
  {
   "cell_type": "markdown",
   "id": "74eed688-40a2-483b-a14e-ee8b5992031a",
   "metadata": {},
   "source": [
    "If the project were to be extended, we would:\n",
    "\n",
    "- Collect weather data for 6–13 June and additional historical records past 2021 to improve weather accuracy.\n",
    "- With fewer limitations to the number of calls to the OpenWeather API, we would collect weather data from multiple coordinates across a single country, which could be utilised to produce a more representative and accurate mean average for each country. \n",
    "- Filter destinations further using expanded flight data from additional API keys.\n",
    "-Apply machine learning to predict future weather and flight prices for recommended destinations."
   ]
  },
  {
   "cell_type": "markdown",
   "id": "f9a8956b-e513-4ee4-a33e-2b4b02560f11",
   "metadata": {},
   "source": [
    "We hope our guide empowers solo travellers to find peaceful, confident alternatives for their summer adventures, opening up new horizons beyond the traditional tourist trail."
   ]
  },
  {
   "cell_type": "code",
   "execution_count": 4,
   "id": "21b50031",
   "metadata": {},
   "outputs": [
    {
     "name": "stderr",
     "output_type": "stream",
     "text": [
      "[NbConvertApp] Converting notebook Project Report.ipynb to pdf\n",
      "[NbConvertApp] ERROR | Error while converting 'Project Report.ipynb'\n",
      "Traceback (most recent call last):\n",
      "  File \"C:\\Users\\ickle\\AppData\\Local\\Packages\\PythonSoftwareFoundation.Python.3.13_qbz5n2kfra8p0\\LocalCache\\local-packages\\Python313\\site-packages\\nbconvert\\nbconvertapp.py\", line 487, in export_single_notebook\n",
      "    output, resources = self.exporter.from_filename(\n",
      "                        ~~~~~~~~~~~~~~~~~~~~~~~~~~~^\n",
      "        notebook_filename, resources=resources\n",
      "        ^^^^^^^^^^^^^^^^^^^^^^^^^^^^^^^^^^^^^^\n",
      "    )\n",
      "    ^\n",
      "  File \"C:\\Users\\ickle\\AppData\\Local\\Packages\\PythonSoftwareFoundation.Python.3.13_qbz5n2kfra8p0\\LocalCache\\local-packages\\Python313\\site-packages\\nbconvert\\exporters\\templateexporter.py\", line 390, in from_filename\n",
      "    return super().from_filename(filename, resources, **kw)  # type:ignore[return-value]\n",
      "           ~~~~~~~~~~~~~~~~~~~~~^^^^^^^^^^^^^^^^^^^^^^^^^^^\n",
      "  File \"C:\\Users\\ickle\\AppData\\Local\\Packages\\PythonSoftwareFoundation.Python.3.13_qbz5n2kfra8p0\\LocalCache\\local-packages\\Python313\\site-packages\\nbconvert\\exporters\\exporter.py\", line 201, in from_filename\n",
      "    return self.from_file(f, resources=resources, **kw)\n",
      "           ~~~~~~~~~~~~~~^^^^^^^^^^^^^^^^^^^^^^^^^^^^^^\n",
      "  File \"C:\\Users\\ickle\\AppData\\Local\\Packages\\PythonSoftwareFoundation.Python.3.13_qbz5n2kfra8p0\\LocalCache\\local-packages\\Python313\\site-packages\\nbconvert\\exporters\\templateexporter.py\", line 396, in from_file\n",
      "    return super().from_file(file_stream, resources, **kw)  # type:ignore[return-value]\n",
      "           ~~~~~~~~~~~~~~~~~^^^^^^^^^^^^^^^^^^^^^^^^^^^^^^\n",
      "  File \"C:\\Users\\ickle\\AppData\\Local\\Packages\\PythonSoftwareFoundation.Python.3.13_qbz5n2kfra8p0\\LocalCache\\local-packages\\Python313\\site-packages\\nbconvert\\exporters\\exporter.py\", line 220, in from_file\n",
      "    return self.from_notebook_node(\n",
      "           ~~~~~~~~~~~~~~~~~~~~~~~^\n",
      "        nbformat.read(file_stream, as_version=4), resources=resources, **kw\n",
      "        ^^^^^^^^^^^^^^^^^^^^^^^^^^^^^^^^^^^^^^^^^^^^^^^^^^^^^^^^^^^^^^^^^^^\n",
      "    )\n",
      "    ^\n",
      "  File \"C:\\Users\\ickle\\AppData\\Local\\Packages\\PythonSoftwareFoundation.Python.3.13_qbz5n2kfra8p0\\LocalCache\\local-packages\\Python313\\site-packages\\nbconvert\\exporters\\pdf.py\", line 184, in from_notebook_node\n",
      "    latex, resources = super().from_notebook_node(nb, resources=resources, **kw)\n",
      "                       ~~~~~~~~~~~~~~~~~~~~~~~~~~^^^^^^^^^^^^^^^^^^^^^^^^^^^^^^^\n",
      "  File \"C:\\Users\\ickle\\AppData\\Local\\Packages\\PythonSoftwareFoundation.Python.3.13_qbz5n2kfra8p0\\LocalCache\\local-packages\\Python313\\site-packages\\nbconvert\\exporters\\latex.py\", line 92, in from_notebook_node\n",
      "    return super().from_notebook_node(nb, resources, **kw)\n",
      "           ~~~~~~~~~~~~~~~~~~~~~~~~~~^^^^^^^^^^^^^^^^^^^^^\n",
      "  File \"C:\\Users\\ickle\\AppData\\Local\\Packages\\PythonSoftwareFoundation.Python.3.13_qbz5n2kfra8p0\\LocalCache\\local-packages\\Python313\\site-packages\\nbconvert\\exporters\\templateexporter.py\", line 429, in from_notebook_node\n",
      "    output = self.template.render(nb=nb_copy, resources=resources)\n",
      "  File \"C:\\Users\\ickle\\AppData\\Local\\Packages\\PythonSoftwareFoundation.Python.3.13_qbz5n2kfra8p0\\LocalCache\\local-packages\\Python313\\site-packages\\jinja2\\environment.py\", line 1295, in render\n",
      "    self.environment.handle_exception()\n",
      "    ~~~~~~~~~~~~~~~~~~~~~~~~~~~~~~~~~^^\n",
      "  File \"C:\\Users\\ickle\\AppData\\Local\\Packages\\PythonSoftwareFoundation.Python.3.13_qbz5n2kfra8p0\\LocalCache\\local-packages\\Python313\\site-packages\\jinja2\\environment.py\", line 942, in handle_exception\n",
      "    raise rewrite_traceback_stack(source=source)\n",
      "  File \"C:\\Users\\ickle\\AppData\\Local\\Packages\\PythonSoftwareFoundation.Python.3.13_qbz5n2kfra8p0\\LocalCache\\local-packages\\share\\jupyter\\nbconvert\\templates\\latex\\index.tex.j2\", line 8, in top-level template code\n",
      "    ((* extends cell_style *))\n",
      "    ^^^^^^^^^^^^^^^^^^^^^^^^^\n",
      "  File \"C:\\Users\\ickle\\AppData\\Local\\Packages\\PythonSoftwareFoundation.Python.3.13_qbz5n2kfra8p0\\LocalCache\\local-packages\\share\\jupyter\\nbconvert\\templates\\latex\\style_jupyter.tex.j2\", line 176, in top-level template code\n",
      "    \\prompt{(((prompt)))}{(((prompt_color)))}{(((execution_count)))}{(((extra_space)))}\n",
      "    ^^^^^^^^^^^^^^^^^^^^^^^^^\n",
      "  File \"C:\\Users\\ickle\\AppData\\Local\\Packages\\PythonSoftwareFoundation.Python.3.13_qbz5n2kfra8p0\\LocalCache\\local-packages\\share\\jupyter\\nbconvert\\templates\\latex\\base.tex.j2\", line 7, in top-level template code\n",
      "    ((*- extends 'document_contents.tex.j2' -*))\n",
      "    ^^^^^^^^^^^^^^^^^^^^^^^^^\n",
      "  File \"C:\\Users\\ickle\\AppData\\Local\\Packages\\PythonSoftwareFoundation.Python.3.13_qbz5n2kfra8p0\\LocalCache\\local-packages\\share\\jupyter\\nbconvert\\templates\\latex\\document_contents.tex.j2\", line 51, in top-level template code\n",
      "    ((*- block figure scoped -*))\n",
      "    ^^^^^^^^^^^^^^^^^^^^^^^^^\n",
      "  File \"C:\\Users\\ickle\\AppData\\Local\\Packages\\PythonSoftwareFoundation.Python.3.13_qbz5n2kfra8p0\\LocalCache\\local-packages\\share\\jupyter\\nbconvert\\templates\\latex\\display_priority.j2\", line 5, in top-level template code\n",
      "    ((*- extends 'null.j2' -*))\n",
      "    ^^^^^^^^^^^^^^^^^^^^^^^^^\n",
      "  File \"C:\\Users\\ickle\\AppData\\Local\\Packages\\PythonSoftwareFoundation.Python.3.13_qbz5n2kfra8p0\\LocalCache\\local-packages\\share\\jupyter\\nbconvert\\templates\\latex\\null.j2\", line 30, in top-level template code\n",
      "    ((*- block body -*))\n",
      "  File \"C:\\Users\\ickle\\AppData\\Local\\Packages\\PythonSoftwareFoundation.Python.3.13_qbz5n2kfra8p0\\LocalCache\\local-packages\\share\\jupyter\\nbconvert\\templates\\latex\\base.tex.j2\", line 241, in block 'body'\n",
      "    ((( super() )))\n",
      "    ~~~~~~~~~^^~~~~\n",
      "  File \"C:\\Users\\ickle\\AppData\\Local\\Packages\\PythonSoftwareFoundation.Python.3.13_qbz5n2kfra8p0\\LocalCache\\local-packages\\share\\jupyter\\nbconvert\\templates\\latex\\null.j2\", line 32, in block 'body'\n",
      "    ((*- block any_cell scoped -*))\n",
      "    ^^^^^^^^^^^^^^^^^^^^^\n",
      "  File \"C:\\Users\\ickle\\AppData\\Local\\Packages\\PythonSoftwareFoundation.Python.3.13_qbz5n2kfra8p0\\LocalCache\\local-packages\\share\\jupyter\\nbconvert\\templates\\latex\\null.j2\", line 85, in block 'any_cell'\n",
      "    ((*- block markdowncell scoped-*)) ((*- endblock markdowncell -*))\n",
      "    ^^^^^^^^^\n",
      "  File \"C:\\Users\\ickle\\AppData\\Local\\Packages\\PythonSoftwareFoundation.Python.3.13_qbz5n2kfra8p0\\LocalCache\\local-packages\\share\\jupyter\\nbconvert\\templates\\latex\\document_contents.tex.j2\", line 68, in block 'markdowncell'\n",
      "    ((( cell.source | citation2latex | strip_files_prefix | convert_pandoc('markdown+tex_math_double_backslash', 'json',extra_args=[]) | resolve_references | convert_explicitly_relative_paths | convert_pandoc('json','latex'))))\n",
      "    ^^^^^^^^^^^^^^^^^^^^^\n",
      "  File \"C:\\Users\\ickle\\AppData\\Local\\Packages\\PythonSoftwareFoundation.Python.3.13_qbz5n2kfra8p0\\LocalCache\\local-packages\\Python313\\site-packages\\nbconvert\\filters\\pandoc.py\", line 36, in convert_pandoc\n",
      "    return pandoc(source, from_format, to_format, extra_args=extra_args)\n",
      "  File \"C:\\Users\\ickle\\AppData\\Local\\Packages\\PythonSoftwareFoundation.Python.3.13_qbz5n2kfra8p0\\LocalCache\\local-packages\\Python313\\site-packages\\nbconvert\\utils\\pandoc.py\", line 50, in pandoc\n",
      "    check_pandoc_version()\n",
      "    ~~~~~~~~~~~~~~~~~~~~^^\n",
      "  File \"C:\\Users\\ickle\\AppData\\Local\\Packages\\PythonSoftwareFoundation.Python.3.13_qbz5n2kfra8p0\\LocalCache\\local-packages\\Python313\\site-packages\\nbconvert\\utils\\pandoc.py\", line 98, in check_pandoc_version\n",
      "    v = get_pandoc_version()\n",
      "  File \"C:\\Users\\ickle\\AppData\\Local\\Packages\\PythonSoftwareFoundation.Python.3.13_qbz5n2kfra8p0\\LocalCache\\local-packages\\Python313\\site-packages\\nbconvert\\utils\\pandoc.py\", line 75, in get_pandoc_version\n",
      "    raise PandocMissing()\n",
      "nbconvert.utils.pandoc.PandocMissing: Pandoc wasn't found.\n",
      "Please check that pandoc is installed:\n",
      "https://pandoc.org/installing.html\n"
     ]
    }
   ],
   "source": [
    "!jupyter nbconvert --to pdf \"Project Report.ipynb\"\n"
   ]
  }
 ],
 "metadata": {
  "kernelspec": {
   "display_name": "Python 3",
   "language": "python",
   "name": "python3"
  },
  "language_info": {
   "codemirror_mode": {
    "name": "ipython",
    "version": 3
   },
   "file_extension": ".py",
   "mimetype": "text/x-python",
   "name": "python",
   "nbconvert_exporter": "python",
   "pygments_lexer": "ipython3",
   "version": "3.13.3"
  }
 },
 "nbformat": 4,
 "nbformat_minor": 5
}
